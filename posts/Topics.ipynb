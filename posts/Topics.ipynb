{
 "cells": [
  {
   "cell_type": "markdown",
   "id": "b43ee062",
   "metadata": {},
   "source": [
    "# Exploratory data analysis"
   ]
  },
  {
   "cell_type": "markdown",
   "id": "0b979a87",
   "metadata": {},
   "source": [
    "### import classics CSV file as a dataframe"
   ]
  },
  {
   "cell_type": "code",
   "execution_count": 2,
   "id": "fcf34bfb",
   "metadata": {
    "scrolled": true
   },
   "outputs": [
    {
     "data": {
      "text/html": [
       "<div>\n",
       "<style scoped>\n",
       "    .dataframe tbody tr th:only-of-type {\n",
       "        vertical-align: middle;\n",
       "    }\n",
       "\n",
       "    .dataframe tbody tr th {\n",
       "        vertical-align: top;\n",
       "    }\n",
       "\n",
       "    .dataframe thead th {\n",
       "        text-align: right;\n",
       "    }\n",
       "</style>\n",
       "<table border=\"1\" class=\"dataframe\">\n",
       "  <thead>\n",
       "    <tr style=\"text-align: right;\">\n",
       "      <th></th>\n",
       "      <th>bibliography.congress classifications</th>\n",
       "      <th>bibliography.languages</th>\n",
       "      <th>bibliography.subjects</th>\n",
       "      <th>bibliography.title</th>\n",
       "      <th>bibliography.type</th>\n",
       "      <th>metadata.downloads</th>\n",
       "      <th>metadata.id</th>\n",
       "      <th>metadata.rank</th>\n",
       "      <th>metadata.url</th>\n",
       "      <th>bibliography.author.birth</th>\n",
       "      <th>...</th>\n",
       "      <th>metrics.sentiments.polarity</th>\n",
       "      <th>metrics.sentiments.subjectivity</th>\n",
       "      <th>metrics.statistics.average letter per word</th>\n",
       "      <th>metrics.statistics.average sentence length</th>\n",
       "      <th>metrics.statistics.average sentence per word</th>\n",
       "      <th>metrics.statistics.characters</th>\n",
       "      <th>metrics.statistics.polysyllables</th>\n",
       "      <th>metrics.statistics.sentences</th>\n",
       "      <th>metrics.statistics.syllables</th>\n",
       "      <th>metrics.statistics.words</th>\n",
       "    </tr>\n",
       "  </thead>\n",
       "  <tbody>\n",
       "    <tr>\n",
       "      <th>0</th>\n",
       "      <td>PR</td>\n",
       "      <td>en</td>\n",
       "      <td>Sisters -- Fiction,Courtship -- Fiction,Social...</td>\n",
       "      <td>Pride and Prejudice</td>\n",
       "      <td>Text</td>\n",
       "      <td>36576</td>\n",
       "      <td>1342</td>\n",
       "      <td>1</td>\n",
       "      <td>https://www.gutenberg.org/ebooks/1342</td>\n",
       "      <td>1775</td>\n",
       "      <td>...</td>\n",
       "      <td>0.136713</td>\n",
       "      <td>0.522239</td>\n",
       "      <td>4.83</td>\n",
       "      <td>18.0</td>\n",
       "      <td>0.05</td>\n",
       "      <td>586794</td>\n",
       "      <td>4603</td>\n",
       "      <td>6511</td>\n",
       "      <td>170648.1</td>\n",
       "      <td>121533</td>\n",
       "    </tr>\n",
       "    <tr>\n",
       "      <th>1</th>\n",
       "      <td>PS</td>\n",
       "      <td>en</td>\n",
       "      <td>Mentally ill women -- Fiction,Feminist fiction...</td>\n",
       "      <td>The Yellow Wallpaper</td>\n",
       "      <td>Text</td>\n",
       "      <td>26363</td>\n",
       "      <td>1952</td>\n",
       "      <td>2</td>\n",
       "      <td>https://www.gutenberg.org/ebooks/1952</td>\n",
       "      <td>1860</td>\n",
       "      <td>...</td>\n",
       "      <td>0.054174</td>\n",
       "      <td>0.534787</td>\n",
       "      <td>4.41</td>\n",
       "      <td>15.0</td>\n",
       "      <td>0.06</td>\n",
       "      <td>26769</td>\n",
       "      <td>102</td>\n",
       "      <td>385</td>\n",
       "      <td>7686.9</td>\n",
       "      <td>6067</td>\n",
       "    </tr>\n",
       "    <tr>\n",
       "      <th>2</th>\n",
       "      <td>PZ,PR</td>\n",
       "      <td>en</td>\n",
       "      <td>Fantasy</td>\n",
       "      <td>Alice's Adventures in Wonderland</td>\n",
       "      <td>Text</td>\n",
       "      <td>18882</td>\n",
       "      <td>11</td>\n",
       "      <td>3</td>\n",
       "      <td>https://www.gutenberg.org/ebooks/11</td>\n",
       "      <td>1832</td>\n",
       "      <td>...</td>\n",
       "      <td>0.041079</td>\n",
       "      <td>0.497276</td>\n",
       "      <td>4.65</td>\n",
       "      <td>17.0</td>\n",
       "      <td>0.06</td>\n",
       "      <td>122719</td>\n",
       "      <td>339</td>\n",
       "      <td>1501</td>\n",
       "      <td>33810.3</td>\n",
       "      <td>26389</td>\n",
       "    </tr>\n",
       "    <tr>\n",
       "      <th>3</th>\n",
       "      <td>PR</td>\n",
       "      <td>en</td>\n",
       "      <td>Monsters -- Fiction;Frankenstein's monster (Fi...</td>\n",
       "      <td>Frankenstein; Or, The Modern Prometheus</td>\n",
       "      <td>Text</td>\n",
       "      <td>17128</td>\n",
       "      <td>84</td>\n",
       "      <td>4</td>\n",
       "      <td>https://www.gutenberg.org/ebooks/84</td>\n",
       "      <td>1797</td>\n",
       "      <td>...</td>\n",
       "      <td>0.100902</td>\n",
       "      <td>0.539516</td>\n",
       "      <td>4.77</td>\n",
       "      <td>23.0</td>\n",
       "      <td>0.04</td>\n",
       "      <td>357604</td>\n",
       "      <td>2604</td>\n",
       "      <td>3239</td>\n",
       "      <td>106802.1</td>\n",
       "      <td>74959</td>\n",
       "    </tr>\n",
       "    <tr>\n",
       "      <th>4</th>\n",
       "      <td>PT</td>\n",
       "      <td>en</td>\n",
       "      <td>Psychological fiction,Metamorphosis -- Fiction</td>\n",
       "      <td>Metamorphosis</td>\n",
       "      <td>Text</td>\n",
       "      <td>15683</td>\n",
       "      <td>5200</td>\n",
       "      <td>5</td>\n",
       "      <td>https://www.gutenberg.org/ebooks/5200</td>\n",
       "      <td>1883</td>\n",
       "      <td>...</td>\n",
       "      <td>0.041997</td>\n",
       "      <td>0.479019</td>\n",
       "      <td>4.56</td>\n",
       "      <td>27.0</td>\n",
       "      <td>0.04</td>\n",
       "      <td>100372</td>\n",
       "      <td>397</td>\n",
       "      <td>800</td>\n",
       "      <td>28752.3</td>\n",
       "      <td>22022</td>\n",
       "    </tr>\n",
       "  </tbody>\n",
       "</table>\n",
       "<p>5 rows × 38 columns</p>\n",
       "</div>"
      ],
      "text/plain": [
       "  bibliography.congress classifications bibliography.languages  \\\n",
       "0                                    PR                     en   \n",
       "1                                    PS                     en   \n",
       "2                                 PZ,PR                     en   \n",
       "3                                    PR                     en   \n",
       "4                                    PT                     en   \n",
       "\n",
       "                               bibliography.subjects  \\\n",
       "0  Sisters -- Fiction,Courtship -- Fiction,Social...   \n",
       "1  Mentally ill women -- Fiction,Feminist fiction...   \n",
       "2                                            Fantasy   \n",
       "3  Monsters -- Fiction;Frankenstein's monster (Fi...   \n",
       "4     Psychological fiction,Metamorphosis -- Fiction   \n",
       "\n",
       "                        bibliography.title bibliography.type  \\\n",
       "0                      Pride and Prejudice              Text   \n",
       "1                     The Yellow Wallpaper              Text   \n",
       "2         Alice's Adventures in Wonderland              Text   \n",
       "3  Frankenstein; Or, The Modern Prometheus              Text   \n",
       "4                            Metamorphosis              Text   \n",
       "\n",
       "   metadata.downloads  metadata.id  metadata.rank  \\\n",
       "0               36576         1342              1   \n",
       "1               26363         1952              2   \n",
       "2               18882           11              3   \n",
       "3               17128           84              4   \n",
       "4               15683         5200              5   \n",
       "\n",
       "                            metadata.url  bibliography.author.birth  ...  \\\n",
       "0  https://www.gutenberg.org/ebooks/1342                       1775  ...   \n",
       "1  https://www.gutenberg.org/ebooks/1952                       1860  ...   \n",
       "2    https://www.gutenberg.org/ebooks/11                       1832  ...   \n",
       "3    https://www.gutenberg.org/ebooks/84                       1797  ...   \n",
       "4  https://www.gutenberg.org/ebooks/5200                       1883  ...   \n",
       "\n",
       "   metrics.sentiments.polarity metrics.sentiments.subjectivity  \\\n",
       "0                     0.136713                        0.522239   \n",
       "1                     0.054174                        0.534787   \n",
       "2                     0.041079                        0.497276   \n",
       "3                     0.100902                        0.539516   \n",
       "4                     0.041997                        0.479019   \n",
       "\n",
       "   metrics.statistics.average letter per word  \\\n",
       "0                                        4.83   \n",
       "1                                        4.41   \n",
       "2                                        4.65   \n",
       "3                                        4.77   \n",
       "4                                        4.56   \n",
       "\n",
       "  metrics.statistics.average sentence length  \\\n",
       "0                                       18.0   \n",
       "1                                       15.0   \n",
       "2                                       17.0   \n",
       "3                                       23.0   \n",
       "4                                       27.0   \n",
       "\n",
       "   metrics.statistics.average sentence per word metrics.statistics.characters  \\\n",
       "0                                          0.05                        586794   \n",
       "1                                          0.06                         26769   \n",
       "2                                          0.06                        122719   \n",
       "3                                          0.04                        357604   \n",
       "4                                          0.04                        100372   \n",
       "\n",
       "   metrics.statistics.polysyllables  metrics.statistics.sentences  \\\n",
       "0                              4603                          6511   \n",
       "1                               102                           385   \n",
       "2                               339                          1501   \n",
       "3                              2604                          3239   \n",
       "4                               397                           800   \n",
       "\n",
       "  metrics.statistics.syllables  metrics.statistics.words  \n",
       "0                     170648.1                    121533  \n",
       "1                       7686.9                      6067  \n",
       "2                      33810.3                     26389  \n",
       "3                     106802.1                     74959  \n",
       "4                      28752.3                     22022  \n",
       "\n",
       "[5 rows x 38 columns]"
      ]
     },
     "execution_count": 2,
     "metadata": {},
     "output_type": "execute_result"
    }
   ],
   "source": [
    "\n",
    "import pandas as pd\n",
    "\n",
    "file_path = 'classics.csv'\n",
    "\n",
    "# Read the CSV file into a pandas DataFrame\n",
    "df = pd.read_csv(file_path)\n",
    "\n",
    "# Check if the file is loaded sucessfully\n",
    "df.head()\n"
   ]
  },
  {
   "cell_type": "markdown",
   "id": "ab25f7a4",
   "metadata": {},
   "source": [
    "### check missing data"
   ]
  },
  {
   "cell_type": "code",
   "execution_count": 6,
   "id": "4ad446bf",
   "metadata": {},
   "outputs": [
    {
     "name": "stdout",
     "output_type": "stream",
     "text": [
      "bibliography.congress classifications              159\n",
      "bibliography.languages                               0\n",
      "bibliography.subjects                              155\n",
      "bibliography.title                                   0\n",
      "bibliography.type                                    0\n",
      "metadata.downloads                                   0\n",
      "metadata.id                                          0\n",
      "metadata.rank                                        0\n",
      "metadata.url                                         0\n",
      "bibliography.author.birth                            0\n",
      "bibliography.author.death                            0\n",
      "bibliography.author.name                             0\n",
      "bibliography.publication.day                         0\n",
      "bibliography.publication.full                        0\n",
      "bibliography.publication.month                       0\n",
      "bibliography.publication.month name                  0\n",
      "bibliography.publication.year                        0\n",
      "metadata.formats.total                               0\n",
      "metadata.formats.types                               0\n",
      "metrics.difficulty.automated readability index       0\n",
      "metrics.difficulty.coleman liau index                0\n",
      "metrics.difficulty.dale chall readability score      0\n",
      "metrics.difficulty.difficult words                   0\n",
      "metrics.difficulty.flesch kincaid grade              0\n",
      "metrics.difficulty.flesch reading ease               0\n",
      "metrics.difficulty.gunning fog                       0\n",
      "metrics.difficulty.linsear write formula             0\n",
      "metrics.difficulty.smog index                        0\n",
      "metrics.sentiments.polarity                          0\n",
      "metrics.sentiments.subjectivity                      0\n",
      "metrics.statistics.average letter per word           0\n",
      "metrics.statistics.average sentence length           0\n",
      "metrics.statistics.average sentence per word         0\n",
      "metrics.statistics.characters                        0\n",
      "metrics.statistics.polysyllables                     0\n",
      "metrics.statistics.sentences                         0\n",
      "metrics.statistics.syllables                         0\n",
      "metrics.statistics.words                             0\n",
      "dtype: int64\n"
     ]
    }
   ],
   "source": [
    "missing_data = df.isnull().sum()\n",
    "\n",
    "print(missing_data)"
   ]
  },
  {
   "cell_type": "markdown",
   "id": "42ba53d5",
   "metadata": {},
   "source": [
    "We see 159 missing data in \"bibliography.congress classifications\" column and 155 in \"bibliography.subjects\" colum."
   ]
  },
  {
   "cell_type": "markdown",
   "id": "b8a6d9a2",
   "metadata": {},
   "source": [
    "How many authors are in the dataset?"
   ]
  },
  {
   "cell_type": "code",
   "execution_count": 87,
   "id": "d2864394",
   "metadata": {},
   "outputs": [
    {
     "data": {
      "text/plain": [
       "555"
      ]
     },
     "execution_count": 87,
     "metadata": {},
     "output_type": "execute_result"
    }
   ],
   "source": [
    "len(df[\"bibliography.author.name\"].unique())"
   ]
  },
  {
   "cell_type": "markdown",
   "id": "1ed1e51a",
   "metadata": {},
   "source": [
    "There are 555 authors in this dataset."
   ]
  },
  {
   "cell_type": "markdown",
   "id": "69125317",
   "metadata": {},
   "source": [
    "Number of publications in each year?\n"
   ]
  },
  {
   "cell_type": "markdown",
   "id": "335da6f0",
   "metadata": {},
   "source": [
    "By making the number of bins equal to the number of total unique value, we get a histogram like this:"
   ]
  },
  {
   "cell_type": "code",
   "execution_count": 17,
   "id": "bd39885b",
   "metadata": {
    "scrolled": false
   },
   "outputs": [
    {
     "data": {
      "image/png": "[encoded data removed]",
      "text/plain": [
       "<Figure size 640x480 with 1 Axes>"
      ]
     },
     "metadata": {},
     "output_type": "display_data"
    }
   ],
   "source": [
    "import matplotlib.pyplot as plt\n",
    "\n",
    "dt1 = df[\"bibliography.publication.year\"]\n",
    "\n",
    "# Create a histogram\n",
    "plt.hist(dt1, bins= len(df[\"bibliography.publication.year\"].unique()), edgecolor='black')\n",
    "\n",
    "# Add labels and title\n",
    "plt.xlabel('Value')\n",
    "plt.ylabel('Frequency')\n",
    "plt.title('Histogram Example')\n",
    "\n",
    "# Show the plot\n",
    "plt.show()\n"
   ]
  },
  {
   "cell_type": "markdown",
   "id": "e567555f",
   "metadata": {},
   "source": [
    "We see the publication year is highly skewed to the left, where we observe most of books in this dataset are published in late 20th centery or after 2000s. In other words, most of them are published in recent 30 years."
   ]
  },
  {
   "cell_type": "markdown",
   "id": "89662f30",
   "metadata": {},
   "source": [
    "Relationship between number of difficul words and reading ease (metrics.difficulty.flesch reading ease)?"
   ]
  },
  {
   "cell_type": "code",
   "execution_count": 76,
   "id": "aa3d7bb6",
   "metadata": {},
   "outputs": [
    {
     "data": {
      "image/png": "[encoded data removed]",
      "text/plain": [
       "<Figure size 640x480 with 1 Axes>"
      ]
     },
     "metadata": {},
     "output_type": "display_data"
    }
   ],
   "source": [
    "import numpy as np\n",
    "from sklearn.linear_model import LinearRegression\n",
    "\n",
    "x = df[\"metrics.difficulty.difficult words\"]\n",
    "y = df[\"metrics.difficulty.flesch reading ease\"]\n",
    "\n",
    "x = [xi for xi in x if xi < 10000]\n",
    "y = [y[i] for i, xi in enumerate(x) if xi < 10000]\n",
    "# Create a scatter plot\n",
    "plt.scatter(x, y)\n",
    "\n",
    "\n",
    "# Add labels and title\n",
    "plt.xlabel('# of difficult words')\n",
    "plt.ylabel('flesch reading ease')\n",
    "plt.title('Scatter Plot Example')\n",
    "\n",
    "lm = LinearRegression()\n",
    "x = np.array(filtered_x).reshape(-1, 1)\n",
    "y = np.array(filtered_y).reshape(-1, 1)\n",
    "lm.fit(x,y )\n",
    "\n",
    "# Get the coefficients of the linear model\n",
    "slope = lm.coef_[0]\n",
    "intercept = lm.intercept_\n",
    "plt.plot(x, slope * x + intercept, color='red', label='Regression Line')\n",
    "\n",
    "# Show the plot\n",
    "plt.show()"
   ]
  },
  {
   "cell_type": "code",
   "execution_count": 75,
   "id": "71db320d",
   "metadata": {},
   "outputs": [
    {
     "data": {
      "text/plain": [
       "array([-0.00131749])"
      ]
     },
     "execution_count": 75,
     "metadata": {},
     "output_type": "execute_result"
    }
   ],
   "source": [
    "slope"
   ]
  },
  {
   "cell_type": "markdown",
   "id": "8e70b66e",
   "metadata": {},
   "source": [
    "The slope is -0.00131749, which says there isn't an obvious negative relation between number of difficult words and flesch reading ease. This contradicts to my expectation, that there must be a obvious negative relationship bewteen this two variables. "
   ]
  },
  {
   "cell_type": "code",
   "execution_count": 85,
   "id": "5f68c73b",
   "metadata": {},
   "outputs": [
    {
     "data": {
      "image/png": "[encoded data removed]",
      "text/plain": [
       "<Figure size 640x480 with 1 Axes>"
      ]
     },
     "metadata": {},
     "output_type": "display_data"
    }
   ],
   "source": [
    "dt = df[\"metrics.sentiments.polarity\"]\n",
    "\n",
    "# Create a histogram\n",
    "plt.hist(dt, bins= len(df[\"metrics.sentiments.polarity\"].unique()), edgecolor='black')\n",
    "\n",
    "# Add labels and title\n",
    "plt.xlabel('Value')\n",
    "plt.ylabel('Frequency')\n",
    "plt.title('Histogram Example')\n",
    "\n",
    "# Show the plot\n",
    "plt.show()\n"
   ]
  },
  {
   "cell_type": "markdown",
   "id": "62afdc45",
   "metadata": {},
   "source": [
    "Sentiments polarity shows to center around 0.1 with a seemingly normal distribution."
   ]
  },
  {
   "cell_type": "code",
   "execution_count": 83,
   "id": "b89d943d",
   "metadata": {},
   "outputs": [
    {
     "data": {
      "image/png": "[encoded data removed]",
      "text/plain": [
       "<Figure size 640x480 with 1 Axes>"
      ]
     },
     "metadata": {},
     "output_type": "display_data"
    }
   ],
   "source": [
    "dt = df[\"metrics.statistics.average sentence length\"]\n",
    "\n",
    "# Create a histogram\n",
    "plt.hist(dt, bins= len(df[\"metrics.statistics.average sentence length\"].unique()), edgecolor='black')\n",
    "\n",
    "# Add labels and title\n",
    "plt.xlabel('Value')\n",
    "plt.ylabel('Frequency')\n",
    "plt.title('Histogram Example')\n",
    "\n",
    "# Show the plot\n",
    "plt.show()\n"
   ]
  },
  {
   "cell_type": "markdown",
   "id": "f037dd3a",
   "metadata": {},
   "source": [
    "Majority of sentence length stay between 0 and 50 with a center around 30 (words)."
   ]
  }
 ],
 "metadata": {
  "kernelspec": {
   "display_name": "Python 3 (ipykernel)",
   "language": "python",
   "name": "python3"
  },
  "language_info": {
   "codemirror_mode": {
    "name": "ipython",
    "version": 3
   },
   "file_extension": ".py",
   "mimetype": "text/x-python",
   "name": "python",
   "nbconvert_exporter": "python",
   "pygments_lexer": "ipython3",
   "version": "3.10.11"
  }
 },
 "nbformat": 4,
 "nbformat_minor": 5
}
